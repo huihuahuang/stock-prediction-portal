{
 "cells": [
  {
   "cell_type": "code",
   "execution_count": 1,
   "id": "b3680f74-2bc7-4733-b323-762b9f9c38a8",
   "metadata": {},
   "outputs": [],
   "source": [
    "import numpy as np"
   ]
  },
  {
   "cell_type": "code",
   "execution_count": 2,
   "id": "3d9e299a-3be7-42a7-961f-bac45e202e96",
   "metadata": {},
   "outputs": [
    {
     "data": {
      "text/plain": [
       "'2.2.4'"
      ]
     },
     "execution_count": 2,
     "metadata": {},
     "output_type": "execute_result"
    }
   ],
   "source": [
    "np.__version__"
   ]
  },
  {
   "cell_type": "markdown",
   "id": "ca4bee40-8c5f-4869-9213-532e1f09b5c8",
   "metadata": {},
   "source": [
    "## Create & Read"
   ]
  },
  {
   "cell_type": "markdown",
   "id": "dd304717-58e8-4d17-abf9-3df3be3515a5",
   "metadata": {},
   "source": [
    "#### 1D Array\n",
    "\n"
   ]
  },
  {
   "cell_type": "code",
   "execution_count": 7,
   "id": "d5cd0b2b-b2c0-48bd-bd9b-0cf6643b67c9",
   "metadata": {
    "scrolled": true
   },
   "outputs": [
    {
     "data": {
      "text/plain": [
       "array([1, 2, 3, 4, 5])"
      ]
     },
     "execution_count": 7,
     "metadata": {},
     "output_type": "execute_result"
    }
   ],
   "source": [
    "arr1 = np.array([1, 2, 3, 4, 5])\n",
    "\n",
    "arr1"
   ]
  },
  {
   "cell_type": "code",
   "execution_count": 8,
   "id": "073ad03c-a5a9-4bb9-9623-65cd88ed1a45",
   "metadata": {},
   "outputs": [
    {
     "data": {
      "text/plain": [
       "numpy.ndarray"
      ]
     },
     "execution_count": 8,
     "metadata": {},
     "output_type": "execute_result"
    }
   ],
   "source": [
    "type(arr1)"
   ]
  },
  {
   "cell_type": "code",
   "execution_count": 9,
   "id": "5cc5b125-5350-43ac-a7cd-dc9716482514",
   "metadata": {},
   "outputs": [
    {
     "data": {
      "text/plain": [
       "dtype('int64')"
      ]
     },
     "execution_count": 9,
     "metadata": {},
     "output_type": "execute_result"
    }
   ],
   "source": [
    "arr1.dtype"
   ]
  },
  {
   "cell_type": "code",
   "execution_count": 10,
   "id": "5e19c19d-7572-4882-bb1f-ed78fbab2bfa",
   "metadata": {},
   "outputs": [
    {
     "data": {
      "text/plain": [
       "5"
      ]
     },
     "execution_count": 10,
     "metadata": {},
     "output_type": "execute_result"
    }
   ],
   "source": [
    "arr1.size\n"
   ]
  },
  {
   "cell_type": "code",
   "execution_count": 11,
   "id": "c0e82c2a-2cb5-4f6e-9fe8-90db2ec62a15",
   "metadata": {},
   "outputs": [
    {
     "data": {
      "text/plain": [
       "1"
      ]
     },
     "execution_count": 11,
     "metadata": {},
     "output_type": "execute_result"
    }
   ],
   "source": [
    "arr1.ndim"
   ]
  },
  {
   "cell_type": "code",
   "execution_count": 12,
   "id": "63d3e34b-e7cc-45ee-bd68-8d5f59c196b1",
   "metadata": {},
   "outputs": [
    {
     "data": {
      "text/plain": [
       "(5,)"
      ]
     },
     "execution_count": 12,
     "metadata": {},
     "output_type": "execute_result"
    }
   ],
   "source": [
    "arr1.shape"
   ]
  },
  {
   "cell_type": "markdown",
   "id": "b5cd078b-a594-4a0a-b13e-970e7af6b8a7",
   "metadata": {},
   "source": [
    "#### 2D Array"
   ]
  },
  {
   "cell_type": "code",
   "execution_count": 21,
   "id": "c7284db5-1741-4ff0-ae50-057bbdff60ef",
   "metadata": {},
   "outputs": [],
   "source": [
    "arr2 = np.array([[1, 2, 3], [4, 5, 6]])"
   ]
  },
  {
   "cell_type": "code",
   "execution_count": 16,
   "id": "60b773e9-3650-4688-af03-7f7b33e3d937",
   "metadata": {},
   "outputs": [
    {
     "data": {
      "text/plain": [
       "array([[1, 2, 3],\n",
       "       [4, 5, 6]])"
      ]
     },
     "execution_count": 16,
     "metadata": {},
     "output_type": "execute_result"
    }
   ],
   "source": [
    "arr2"
   ]
  },
  {
   "cell_type": "code",
   "execution_count": 18,
   "id": "bd9cc64e-524f-4d6b-b911-3fbd228a434c",
   "metadata": {},
   "outputs": [
    {
     "data": {
      "text/plain": [
       "2"
      ]
     },
     "execution_count": 18,
     "metadata": {},
     "output_type": "execute_result"
    }
   ],
   "source": [
    "arr2.ndim"
   ]
  },
  {
   "cell_type": "code",
   "execution_count": 19,
   "id": "7cee8588-ee35-42e2-a3d8-06bc64a24efb",
   "metadata": {},
   "outputs": [
    {
     "data": {
      "text/plain": [
       "(2, 3)"
      ]
     },
     "execution_count": 19,
     "metadata": {},
     "output_type": "execute_result"
    }
   ],
   "source": [
    "arr2.shape  #(row, col)"
   ]
  },
  {
   "cell_type": "code",
   "execution_count": 22,
   "id": "104e5b54-ad96-4f65-b241-620dbd3a4c8e",
   "metadata": {},
   "outputs": [
    {
     "data": {
      "text/plain": [
       "6"
      ]
     },
     "execution_count": 22,
     "metadata": {},
     "output_type": "execute_result"
    }
   ],
   "source": [
    "arr2.size"
   ]
  },
  {
   "cell_type": "markdown",
   "id": "ed51c785-7063-433f-8490-a1d7a89f7781",
   "metadata": {},
   "source": [
    "#### 3D ARRAY"
   ]
  },
  {
   "cell_type": "code",
   "execution_count": 24,
   "id": "356110bc-68f3-4c69-b972-1c33924ecad2",
   "metadata": {},
   "outputs": [],
   "source": [
    "arr3 = np.array([[[1, 2, 3], [4, 5, 6], [7, 8, 9]]])"
   ]
  },
  {
   "cell_type": "code",
   "execution_count": 25,
   "id": "ccf91f72-230d-462f-a6e5-590703b67fe5",
   "metadata": {},
   "outputs": [
    {
     "data": {
      "text/plain": [
       "array([[[1, 2, 3],\n",
       "        [4, 5, 6],\n",
       "        [7, 8, 9]]])"
      ]
     },
     "execution_count": 25,
     "metadata": {},
     "output_type": "execute_result"
    }
   ],
   "source": [
    "arr3"
   ]
  },
  {
   "cell_type": "code",
   "execution_count": 26,
   "id": "659a9078-1d36-44ed-b2e8-2fe55c8de9cf",
   "metadata": {},
   "outputs": [
    {
     "data": {
      "text/plain": [
       "3"
      ]
     },
     "execution_count": 26,
     "metadata": {},
     "output_type": "execute_result"
    }
   ],
   "source": [
    "arr3.ndim"
   ]
  },
  {
   "cell_type": "code",
   "execution_count": 27,
   "id": "b01c0b63-e6fe-40ab-a0b8-faffd563b4da",
   "metadata": {},
   "outputs": [
    {
     "data": {
      "text/plain": [
       "(1, 3, 3)"
      ]
     },
     "execution_count": 27,
     "metadata": {},
     "output_type": "execute_result"
    }
   ],
   "source": [
    "arr3.shape"
   ]
  },
  {
   "cell_type": "markdown",
   "id": "1a8971e4-cf26-42fa-8957-36d50c8d854b",
   "metadata": {},
   "source": [
    "#### Create Random Array"
   ]
  },
  {
   "cell_type": "code",
   "execution_count": 28,
   "id": "43fa2145-72c1-4ff4-9540-a6134bff52c0",
   "metadata": {},
   "outputs": [],
   "source": [
    "randArr = np.random.rand(3, 2, 3)"
   ]
  },
  {
   "cell_type": "code",
   "execution_count": 29,
   "id": "c76df761-5e19-49f8-9446-9d1e0497fb19",
   "metadata": {},
   "outputs": [
    {
     "data": {
      "text/plain": [
       "array([[[0.97398365, 0.71158227, 0.67981762],\n",
       "        [0.42970342, 0.6481527 , 0.49375144]],\n",
       "\n",
       "       [[0.45908825, 0.25953254, 0.45199837],\n",
       "        [0.81176868, 0.60246047, 0.49475233]],\n",
       "\n",
       "       [[0.69795292, 0.7569205 , 0.83794445],\n",
       "        [0.52031606, 0.23831015, 0.83307166]]])"
      ]
     },
     "execution_count": 29,
     "metadata": {},
     "output_type": "execute_result"
    }
   ],
   "source": [
    "randArr"
   ]
  },
  {
   "cell_type": "code",
   "execution_count": 32,
   "id": "7d70ffbf-8b92-4361-9ce9-663533fc0db7",
   "metadata": {},
   "outputs": [],
   "source": [
    "zeros = np.zeros((3, 2, 3))"
   ]
  },
  {
   "cell_type": "code",
   "execution_count": 33,
   "id": "82e21539-2e07-4296-b460-cb40b78a3ad9",
   "metadata": {},
   "outputs": [
    {
     "data": {
      "text/plain": [
       "array([[[0., 0., 0.],\n",
       "        [0., 0., 0.]],\n",
       "\n",
       "       [[0., 0., 0.],\n",
       "        [0., 0., 0.]],\n",
       "\n",
       "       [[0., 0., 0.],\n",
       "        [0., 0., 0.]]])"
      ]
     },
     "execution_count": 33,
     "metadata": {},
     "output_type": "execute_result"
    }
   ],
   "source": [
    "zeros"
   ]
  },
  {
   "cell_type": "code",
   "execution_count": 34,
   "id": "b954b0c0-8b3a-441d-985c-a4a7049692c1",
   "metadata": {},
   "outputs": [
    {
     "data": {
      "text/plain": [
       "3"
      ]
     },
     "execution_count": 34,
     "metadata": {},
     "output_type": "execute_result"
    }
   ],
   "source": [
    " zeros.ndim"
   ]
  },
  {
   "cell_type": "code",
   "execution_count": 35,
   "id": "90602278-25d1-449e-b1a6-156b5bf955f3",
   "metadata": {},
   "outputs": [],
   "source": [
    "full = np.full((3, 2, 3), 9)"
   ]
  },
  {
   "cell_type": "code",
   "execution_count": 36,
   "id": "a2bbeb5d-4475-4705-ad4e-b9637f0eddf1",
   "metadata": {},
   "outputs": [],
   "source": [
    "ones = np.ones((3, 2, 3))"
   ]
  },
  {
   "cell_type": "code",
   "execution_count": 37,
   "id": "d9cc9ad5-0e6e-4b64-8d88-204d81d29833",
   "metadata": {},
   "outputs": [
    {
     "data": {
      "text/plain": [
       "array([[[1., 1., 1.],\n",
       "        [1., 1., 1.]],\n",
       "\n",
       "       [[1., 1., 1.],\n",
       "        [1., 1., 1.]],\n",
       "\n",
       "       [[1., 1., 1.],\n",
       "        [1., 1., 1.]]])"
      ]
     },
     "execution_count": 37,
     "metadata": {},
     "output_type": "execute_result"
    }
   ],
   "source": [
    "ones"
   ]
  },
  {
   "cell_type": "code",
   "execution_count": 38,
   "id": "9fe12262-de81-4872-b95f-3cfee447efe7",
   "metadata": {},
   "outputs": [
    {
     "data": {
      "text/plain": [
       "array([[1, 2, 3],\n",
       "       [4, 5, 6],\n",
       "       [7, 8, 9]])"
      ]
     },
     "execution_count": 38,
     "metadata": {},
     "output_type": "execute_result"
    }
   ],
   "source": [
    "arr3[0]"
   ]
  },
  {
   "cell_type": "code",
   "execution_count": 39,
   "id": "bce9210a-7c5c-4e4f-8798-f95d0c3300da",
   "metadata": {},
   "outputs": [
    {
     "data": {
      "text/plain": [
       "np.int64(1)"
      ]
     },
     "execution_count": 39,
     "metadata": {},
     "output_type": "execute_result"
    }
   ],
   "source": [
    "arr3[0][0][0]\n"
   ]
  },
  {
   "cell_type": "code",
   "execution_count": 40,
   "id": "79ac337a-4607-4add-baac-68ba2208c8af",
   "metadata": {},
   "outputs": [
    {
     "data": {
      "text/plain": [
       "np.int64(1)"
      ]
     },
     "execution_count": 40,
     "metadata": {},
     "output_type": "execute_result"
    }
   ],
   "source": [
    "arr3[0, 0, 0]"
   ]
  },
  {
   "cell_type": "markdown",
   "id": "4eacef05-165e-49b9-8773-caa5fb55ace0",
   "metadata": {},
   "source": [
    "#### Update & Delete"
   ]
  },
  {
   "cell_type": "code",
   "execution_count": 41,
   "id": "c3994e77-2921-4b95-8e9e-d30ac223e26d",
   "metadata": {},
   "outputs": [],
   "source": [
    "a1 = np.random.rand(2, 3, 2)"
   ]
  },
  {
   "cell_type": "code",
   "execution_count": 42,
   "id": "47ad1762-215b-4b81-bb7c-0014d274a084",
   "metadata": {},
   "outputs": [
    {
     "data": {
      "text/plain": [
       "array([[[1.8203128 , 1.09080076],\n",
       "        [0.15526765, 0.64414406],\n",
       "        [0.99639284, 1.41622023]],\n",
       "\n",
       "       [[0.71746818, 1.08199949],\n",
       "        [0.79443018, 0.17988569],\n",
       "        [1.02381109, 1.44882438]]])"
      ]
     },
     "execution_count": 42,
     "metadata": {},
     "output_type": "execute_result"
    }
   ],
   "source": [
    "a2 = np.random.rand(2, 3, 2)\n",
    "np.add(a1, a2)"
   ]
  },
  {
   "cell_type": "code",
   "execution_count": 43,
   "id": "d91ca3e6-d1e6-49ca-895e-1b3ba4903816",
   "metadata": {},
   "outputs": [
    {
     "data": {
      "text/plain": [
       "array([[[-0.15292093, -0.4573591 ],\n",
       "        [-0.02141918,  0.38715688],\n",
       "        [-0.17572743,  0.55202827]],\n",
       "\n",
       "       [[ 0.18198027,  0.1189461 ],\n",
       "        [ 0.31861453, -0.1023493 ],\n",
       "        [-0.49256654, -0.11983862]]])"
      ]
     },
     "execution_count": 43,
     "metadata": {},
     "output_type": "execute_result"
    }
   ],
   "source": [
    "np.subtract(a1, a2)"
   ]
  },
  {
   "cell_type": "code",
   "execution_count": 44,
   "id": "1934b03e-a550-4a8e-b3e9-0292c3aa3c27",
   "metadata": {},
   "outputs": [],
   "source": [
    "sqrt = np.sqrt(25)\n",
    "abs = np.abs(-2)\n",
    "power = np.power(2, 8)\n",
    "log = np.log(25)\n",
    "mins = np.min(a1)\n",
    "maxs = np.max(a2)\n"
   ]
  },
  {
   "cell_type": "code",
   "execution_count": 45,
   "id": "dcbedc6e-57be-4aed-9233-c55652131941",
   "metadata": {},
   "outputs": [
    {
     "data": {
      "text/plain": [
       "np.float64(5.0)"
      ]
     },
     "execution_count": 45,
     "metadata": {},
     "output_type": "execute_result"
    }
   ],
   "source": [
    "sqrt"
   ]
  },
  {
   "cell_type": "code",
   "execution_count": 46,
   "id": "177602b0-ac52-4fee-bf76-d0b9ebfcda2c",
   "metadata": {},
   "outputs": [
    {
     "data": {
      "text/plain": [
       "np.float64(3.2188758248682006)"
      ]
     },
     "execution_count": 46,
     "metadata": {},
     "output_type": "execute_result"
    }
   ],
   "source": [
    "log"
   ]
  },
  {
   "cell_type": "code",
   "execution_count": 47,
   "id": "08603738-39eb-41fa-b9ce-207196168dd8",
   "metadata": {},
   "outputs": [
    {
     "data": {
      "text/plain": [
       "array([[[1, 2, 3],\n",
       "        [4, 5, 6],\n",
       "        [7, 8, 9]]])"
      ]
     },
     "execution_count": 47,
     "metadata": {},
     "output_type": "execute_result"
    }
   ],
   "source": [
    "arr3"
   ]
  },
  {
   "cell_type": "code",
   "execution_count": 48,
   "id": "42c6c6b4-4a22-453c-9af5-34a8af2ebdd4",
   "metadata": {},
   "outputs": [],
   "source": [
    "arr3[0, 0, 1] = 500"
   ]
  },
  {
   "cell_type": "code",
   "execution_count": 49,
   "id": "0edd49e4-6567-4be2-973d-646c500d7734",
   "metadata": {},
   "outputs": [
    {
     "data": {
      "text/plain": [
       "array([[[  1, 500,   3],\n",
       "        [  4,   5,   6],\n",
       "        [  7,   8,   9]]])"
      ]
     },
     "execution_count": 49,
     "metadata": {},
     "output_type": "execute_result"
    }
   ],
   "source": [
    "arr3"
   ]
  },
  {
   "cell_type": "code",
   "execution_count": 50,
   "id": "05825043-55e9-4806-93f6-656c5f772fd6",
   "metadata": {},
   "outputs": [],
   "source": [
    "arr3.sort()"
   ]
  },
  {
   "cell_type": "code",
   "execution_count": 51,
   "id": "42f55455-6b04-4464-a911-9fe9952b179b",
   "metadata": {},
   "outputs": [
    {
     "data": {
      "text/plain": [
       "array([[[  1,   3, 500],\n",
       "        [  4,   5,   6],\n",
       "        [  7,   8,   9]]])"
      ]
     },
     "execution_count": 51,
     "metadata": {},
     "output_type": "execute_result"
    }
   ],
   "source": [
    "arr3"
   ]
  },
  {
   "cell_type": "markdown",
   "id": "b76262f5-ffbe-4560-9f8b-ffbbd55892cd",
   "metadata": {},
   "source": [
    "#### NEW ARRAY"
   ]
  },
  {
   "cell_type": "code",
   "execution_count": 52,
   "id": "d71a3eb1-c8bf-46ae-bac3-ef6898361ad6",
   "metadata": {},
   "outputs": [],
   "source": [
    "new_arr = np.ones((3, 2, 3))"
   ]
  },
  {
   "cell_type": "code",
   "execution_count": 53,
   "id": "c4d75f73-2e0b-48d5-b626-da133970bc70",
   "metadata": {},
   "outputs": [
    {
     "data": {
      "text/plain": [
       "array([[[1., 1., 1.],\n",
       "        [1., 1., 1.]],\n",
       "\n",
       "       [[1., 1., 1.],\n",
       "        [1., 1., 1.]],\n",
       "\n",
       "       [[1., 1., 1.],\n",
       "        [1., 1., 1.]]])"
      ]
     },
     "execution_count": 53,
     "metadata": {},
     "output_type": "execute_result"
    }
   ],
   "source": [
    "new_arr"
   ]
  },
  {
   "cell_type": "code",
   "execution_count": 56,
   "id": "0c8cfcb7-da8f-4ba2-aed8-82c002b8fd43",
   "metadata": {},
   "outputs": [
    {
     "data": {
      "text/plain": [
       "array([[[1., 1., 1.],\n",
       "        [1., 1., 1.]],\n",
       "\n",
       "       [[1., 1., 1.],\n",
       "        [1., 1., 1.]],\n",
       "\n",
       "       [[1., 1., 1.],\n",
       "        [1., 1., 1.]],\n",
       "\n",
       "       [[0., 0., 0.],\n",
       "        [0., 0., 0.]],\n",
       "\n",
       "       [[0., 0., 0.],\n",
       "        [0., 0., 0.]],\n",
       "\n",
       "       [[0., 0., 0.],\n",
       "        [0., 0., 0.]]])"
      ]
     },
     "execution_count": 56,
     "metadata": {},
     "output_type": "execute_result"
    }
   ],
   "source": [
    "append = np.append(new_arr, zeros, axis=0)\n",
    "append"
   ]
  },
  {
   "cell_type": "code",
   "execution_count": 57,
   "id": "a7945aca-cc5b-4513-8859-674642373ab8",
   "metadata": {},
   "outputs": [
    {
     "data": {
      "text/plain": [
       "array([[[1., 1., 1.],\n",
       "        [1., 1., 1.]],\n",
       "\n",
       "       [[1., 1., 1.],\n",
       "        [1., 1., 1.]],\n",
       "\n",
       "       [[1., 1., 1.],\n",
       "        [1., 1., 1.]]])"
      ]
     },
     "execution_count": 57,
     "metadata": {},
     "output_type": "execute_result"
    }
   ],
   "source": [
    "zeros\n",
    "new_arr"
   ]
  },
  {
   "cell_type": "code",
   "execution_count": 58,
   "id": "880b84ce-2bd8-4fd1-84bf-811bd483c1df",
   "metadata": {},
   "outputs": [],
   "source": [
    "#### Delete"
   ]
  },
  {
   "cell_type": "code",
   "execution_count": 59,
   "id": "2d99e500-bd0a-4a95-b0d3-bb9b1b084c3d",
   "metadata": {},
   "outputs": [],
   "source": [
    "arr4 = np.random.rand(3, 2, 3)"
   ]
  },
  {
   "cell_type": "code",
   "execution_count": 60,
   "id": "d0790601-d9ca-4bc1-bebd-3e1ebf7eb835",
   "metadata": {},
   "outputs": [
    {
     "data": {
      "text/plain": [
       "array([[[0.58995802, 0.40579417, 0.74373925],\n",
       "        [0.8114466 , 0.94031711, 0.55959393]],\n",
       "\n",
       "       [[0.54154954, 0.04616293, 0.21615597],\n",
       "        [0.38428648, 0.33593433, 0.19258923]],\n",
       "\n",
       "       [[0.00480376, 0.57507214, 0.89058818],\n",
       "        [0.93488383, 0.24449768, 0.81846972]]])"
      ]
     },
     "execution_count": 60,
     "metadata": {},
     "output_type": "execute_result"
    }
   ],
   "source": [
    "arr4"
   ]
  },
  {
   "cell_type": "code",
   "execution_count": 61,
   "id": "bd4ac83a-f814-40dc-9174-5d7265d6d1c7",
   "metadata": {},
   "outputs": [
    {
     "data": {
      "text/plain": [
       "array([[[0.58995802, 0.40579417, 0.74373925],\n",
       "        [0.8114466 , 0.94031711, 0.55959393]],\n",
       "\n",
       "       [[0.54154954, 0.04616293, 0.21615597],\n",
       "        [0.38428648, 0.33593433, 0.19258923]],\n",
       "\n",
       "       [[0.00480376, 0.57507214, 0.89058818],\n",
       "        [0.93488383, 0.24449768, 0.81846972]]])"
      ]
     },
     "execution_count": 61,
     "metadata": {},
     "output_type": "execute_result"
    }
   ],
   "source": [
    "np.delete(arr4, 0, axis=1)\n",
    "arr4"
   ]
  },
  {
   "cell_type": "code",
   "execution_count": 62,
   "id": "a7aa2a3a-fb9a-4471-a1b6-e96c5813ba67",
   "metadata": {},
   "outputs": [],
   "source": [
    "arr5 = np.delete(arr4, 0, axis=1)"
   ]
  },
  {
   "cell_type": "code",
   "execution_count": 63,
   "id": "afa9d26d-0454-473c-9190-be6aa8819f7e",
   "metadata": {},
   "outputs": [
    {
     "data": {
      "text/plain": [
       "array([[[0.8114466 , 0.94031711, 0.55959393]],\n",
       "\n",
       "       [[0.38428648, 0.33593433, 0.19258923]],\n",
       "\n",
       "       [[0.93488383, 0.24449768, 0.81846972]]])"
      ]
     },
     "execution_count": 63,
     "metadata": {},
     "output_type": "execute_result"
    }
   ],
   "source": [
    "arr5"
   ]
  },
  {
   "cell_type": "code",
   "execution_count": null,
   "id": "4a99fb48-a8b9-4748-960b-eb0f28d4bc0c",
   "metadata": {},
   "outputs": [],
   "source": []
  }
 ],
 "metadata": {
  "kernelspec": {
   "display_name": "Python 3 (ipykernel)",
   "language": "python",
   "name": "python3"
  },
  "language_info": {
   "codemirror_mode": {
    "name": "ipython",
    "version": 3
   },
   "file_extension": ".py",
   "mimetype": "text/x-python",
   "name": "python",
   "nbconvert_exporter": "python",
   "pygments_lexer": "ipython3",
   "version": "3.13.7"
  }
 },
 "nbformat": 4,
 "nbformat_minor": 5
}
